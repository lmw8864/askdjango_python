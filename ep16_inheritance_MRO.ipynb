{
 "cells": [
  {
   "cell_type": "markdown",
   "metadata": {},
   "source": [
    "## 상속(Inheritance)"
   ]
  },
  {
   "cell_type": "code",
   "execution_count": 1,
   "metadata": {
    "collapsed": true
   },
   "outputs": [],
   "source": [
    "class Person:\n",
    "    def __init__(self, name):\n",
    "        self.name = name\n",
    "    \n",
    "    def run(self):\n",
    "        print(\"뜁니다.\")\n",
    "    \n",
    "    def eat(self, food):\n",
    "        print(\"{}을 먹습니다.\".format(food))\n",
    "    \n",
    "    def sleep(self):\n",
    "        print(\"잠을 잡니다.\")\n",
    "    \n",
    "    def study(self, target):\n",
    "        print(\"{}을 열심히 공부합니다.\".format(target))"
   ]
  },
  {
   "cell_type": "code",
   "execution_count": 2,
   "metadata": {
    "collapsed": true
   },
   "outputs": [],
   "source": [
    "class Doctor(Person):\n",
    "    def research(self):\n",
    "        print(\"열심히 연구합니다.\")\n",
    "\n",
    "\n",
    "class Programmer(Person):\n",
    "    def coding(self):\n",
    "        print(\"열심히 개발합니다.\")\n",
    "\n",
    "        \n",
    "class Designer(Person):\n",
    "    def design(self):\n",
    "        print(\"열심히 디자인을 합니다.\")"
   ]
  },
  {
   "cell_type": "markdown",
   "metadata": {},
   "source": [
    "## MRO\n",
    "- 클래스 탐색(호출) 순서\n",
    "- **Class.mro()** 를 통해 확인 가능"
   ]
  },
  {
   "cell_type": "markdown",
   "metadata": {},
   "source": [
    "### 부모의 함수 호출\n",
    "- 내장함수 **super()** 를 통해 부모의 함수 호출\n",
    "- super 호출 시에 MRO에 기반하여 호출"
   ]
  },
  {
   "cell_type": "code",
   "execution_count": 9,
   "metadata": {
    "collapsed": true
   },
   "outputs": [],
   "source": [
    "class A:\n",
    "    def fn(self):\n",
    "        print(\"called A.fn()\")\n",
    "\n",
    "\n",
    "class B(A):\n",
    "    def fn(self):\n",
    "        print(\"called B.fn()\")\n",
    "        super().fn()\n",
    "\n",
    "class C(A):\n",
    "    def fn(self):\n",
    "        print(\"called C.fn()\")\n",
    "        super().fn()\n",
    "\n",
    "\n",
    "class D(B, C):\n",
    "    def fn(self):\n",
    "        print(\"called D.fn()\")\n",
    "        super().fn()\n",
    "\n",
    "\n",
    "class E(C, B):\n",
    "    def fn(self):\n",
    "        print(\"called E.fn()\")\n",
    "        super().fn()"
   ]
  },
  {
   "cell_type": "code",
   "execution_count": 10,
   "metadata": {},
   "outputs": [
    {
     "name": "stdout",
     "output_type": "stream",
     "text": [
      "called E.fn()\n",
      "called C.fn()\n",
      "called B.fn()\n",
      "called A.fn()\n"
     ]
    }
   ],
   "source": [
    "E().fn()"
   ]
  },
  {
   "cell_type": "code",
   "execution_count": 11,
   "metadata": {},
   "outputs": [
    {
     "data": {
      "text/plain": [
       "[__main__.E, __main__.C, __main__.B, __main__.A, object]"
      ]
     },
     "execution_count": 11,
     "metadata": {},
     "output_type": "execute_result"
    }
   ],
   "source": [
    "E.mro()  # MRO 확인"
   ]
  },
  {
   "cell_type": "markdown",
   "metadata": {},
   "source": [
    "- 장고에서 CBV(클래스 기반 뷰)를 쓰다 보면 다중 상속을 많이 다루게 되는데, 이때 MRO(호출 순서)를 알아야 인자 처리를 정확히 할 수 있습니다."
   ]
  },
  {
   "cell_type": "code",
   "execution_count": null,
   "metadata": {
    "collapsed": true
   },
   "outputs": [],
   "source": []
  }
 ],
 "metadata": {
  "kernelspec": {
   "display_name": "Python 3",
   "language": "python",
   "name": "python3"
  },
  "language_info": {
   "codemirror_mode": {
    "name": "ipython",
    "version": 3
   },
   "file_extension": ".py",
   "mimetype": "text/x-python",
   "name": "python",
   "nbconvert_exporter": "python",
   "pygments_lexer": "ipython3",
   "version": "3.6.1"
  }
 },
 "nbformat": 4,
 "nbformat_minor": 2
}
