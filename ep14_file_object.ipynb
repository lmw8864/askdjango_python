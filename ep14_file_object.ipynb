{
 "cells": [
  {
   "cell_type": "markdown",
   "metadata": {},
   "source": [
    "## 파일에 저장하기\n",
    "- 파이썬에서는 open함수를 통해 파일 읽기/쓰기 지원\n",
    "\n",
    "\n",
    "### 파일 모드 (Read, Write, Append)\n",
    "- 모드 R : 기존 파일 읽기\n",
    "- 모드 W 혹은 A : 새 파일 생성해서 쓰기\n",
    "- 모드 W : 기존 파일 내용 제거하고, 처음부터 쓰기\n",
    "- 모드 A : 기존 파일의 맨 끝에 추가하기\n",
    "\n",
    "\n",
    "### 파일의 종류\n",
    "- TEXT : 문자열 데이터\n",
    " - 자동 인코딩/디코딩 기능 <- open함수에서 옵션 지원\n",
    "\n",
    "\n",
    "- BINARY : 바이너리 데이터\n",
    " - 자동 인코딩/디코딩을 굳이 수행하지 않음\n",
    " - 대개 문자열이 아닌, 이미지/PDF/XLS 포맷 등\n",
    " - TEXT 데이터여도 BINARY로 열 수도 있음"
   ]
  },
  {
   "cell_type": "markdown",
   "metadata": {},
   "source": [
    "## open(파일 쓰기/ 읽기 함수)\n",
    "file_obj = **open(파일경로, mode='rt', encoding='utf8', 그외옵션생략)**  \n",
    "readed_data = file_obj.read()  # 파일 내용 처음부터 끝까지 모두 읽기  \n",
    "file_obj**.close()**  \n",
    "\n",
    "- file object 주요 멤버함수\n",
    " - .write() : 파일에 쓰기\n",
    " - .read() : 파일 읽기\n",
    " - .close() : 파일 닫기\n",
    "\n",
    "\n",
    "### encoding 옵션\n",
    "- 자동 인코딩/디코딩 옵션\n",
    "- **text mode만 지정 가능.** binary mode에서는 지정 불가\n",
    "- 미지정시 OS설정에 따라 다른 인코딩이 지정됨.\n",
    " - locale.getpreferredencoding(False)\n",
    " - 한글 윈도우: cp949\n",
    " - 맥/리눅스 : 대개 utf8\n",
    "- 가급적이면 모든 파일은 utf-8 인코딩으로 생성\n",
    "\n",
    "\n",
    "### 파일을 열 때, 5가지 모드\n",
    "- r(read), w(write), a(append)\n",
    "\n",
    "\n",
    "- 인코딩 모드\n",
    " - t(text) : 텍스트 모드 (자동 인코딩/디코딩 모드)\n",
    "   - read() 반환타입은 str\n",
    "   - write() 인자로 str타입 필요\n",
    " - b(binary) : 바이너리 모드\n",
    "   - read() 반환티입은 bytes\n",
    "   - write() 인자로 bytes타입 필요\n",
    "\n",
    "\n",
    "- 지정 예\n",
    "    - rt (read + text), rb, wt, wb, at, ab"
   ]
  },
  {
   "cell_type": "markdown",
   "metadata": {},
   "source": [
    "### r (read)\n",
    "filecontent_unicode = open('filepath.txt', 'rt', encoding='utf8').read()  \n",
    "- 지정 경로에 파일이 없을 경우 **IOError** 예외 발생\n",
    "- 지정 경로의 파일에 대해 읽기권한이 없을 경우 **PermissionError** 예외 발생"
   ]
  },
  {
   "cell_type": "code",
   "execution_count": 1,
   "metadata": {},
   "outputs": [
    {
     "ename": "FileNotFoundError",
     "evalue": "[Errno 2] No such file or directory: 'hello01py'",
     "output_type": "error",
     "traceback": [
      "\u001b[0;31m---------------------------------------------------------------------------\u001b[0m",
      "\u001b[0;31mFileNotFoundError\u001b[0m                         Traceback (most recent call last)",
      "\u001b[0;32m<ipython-input-1-d3ed5120c183>\u001b[0m in \u001b[0;36m<module>\u001b[0;34m()\u001b[0m\n\u001b[0;32m----> 1\u001b[0;31m \u001b[0mfile_obj\u001b[0m \u001b[0;34m=\u001b[0m \u001b[0mopen\u001b[0m\u001b[0;34m(\u001b[0m\u001b[0;34m'hello01py'\u001b[0m\u001b[0;34m,\u001b[0m \u001b[0;34m'rt'\u001b[0m\u001b[0;34m,\u001b[0m \u001b[0mencoding\u001b[0m\u001b[0;34m=\u001b[0m\u001b[0;34m'utf8'\u001b[0m\u001b[0;34m)\u001b[0m  \u001b[0;31m# 파일 없음\u001b[0m\u001b[0;34m\u001b[0m\u001b[0m\n\u001b[0m",
      "\u001b[0;31mFileNotFoundError\u001b[0m: [Errno 2] No such file or directory: 'hello01py'"
     ]
    }
   ],
   "source": [
    "file_obj = open('hello01py', 'rt', encoding='utf8')  # 파일 없음"
   ]
  },
  {
   "cell_type": "code",
   "execution_count": 2,
   "metadata": {},
   "outputs": [
    {
     "name": "stdout",
     "output_type": "stream",
     "text": [
      "파일 열기 오류 발생\n",
      "[Errno 2] No such file or directory: 'hello01py'\n"
     ]
    }
   ],
   "source": [
    "try:\n",
    "    file_obj = open('hello01py', 'rt', encoding='utf8')\n",
    "    file_boj.close()\n",
    "except IOError as e:  # FileNotFoundError는 IOError 중 하나\n",
    "    print(\"파일 열기 오류 발생\")\n",
    "    print(e)"
   ]
  },
  {
   "cell_type": "markdown",
   "metadata": {},
   "source": [
    "### w (write)\n",
    "open('filepath.txt', 'wt', encoding='utf8').write('가나다')  # 유니코드 문자열 (str)  \n",
    "\n",
    "- 지정 경로 파일이 없을 경우, 해당 내용으로 새 파일 생성\n",
    "- 지정 경로 파일이 존재할 경우, 해당 내용을 **무시**하고, 새로 파일 생성\n",
    "\n",
    "\n",
    "- 지정 경로의 파일이 존재하지만, 쓰기 권한이 없을 경우 **PermissionError** 예외 발생\n",
    "- 지정 경로 내에 없는 디렉토리가 지정된 경우, **FileNotFoundError** 예외 발생"
   ]
  },
  {
   "cell_type": "markdown",
   "metadata": {},
   "source": [
    "### a (append)\n",
    "open('filepath.txt', 'at', encoding='utf8').write('가나다')  \n",
    "\n",
    "- w (write) 와 유사\n",
    "- 지정 경로 파일이 존재할 경우, **해당 내용에 이어서, 내용 추가**"
   ]
  },
  {
   "cell_type": "markdown",
   "metadata": {},
   "source": [
    "### t (text)\n",
    "- 지정 encoding으로, 자동 인코딩/디코딩과 함께 파일 쓰기/읽기"
   ]
  },
  {
   "cell_type": "code",
   "execution_count": 3,
   "metadata": {
    "collapsed": true
   },
   "outputs": [],
   "source": [
    "with open('filepath.txt', 'wt', encoding='utf') as f:  # with절 사용  \n",
    "    f.write('가나다')"
   ]
  },
  {
   "cell_type": "code",
   "execution_count": 4,
   "metadata": {},
   "outputs": [
    {
     "name": "stdout",
     "output_type": "stream",
     "text": [
      "가나다\n"
     ]
    }
   ],
   "source": [
    "with open('filepath.txt', 'rt', encoding='utf') as f:\n",
    "    readed_data = f.read()\n",
    "    print(readed_data)"
   ]
  },
  {
   "cell_type": "markdown",
   "metadata": {},
   "source": [
    "### b (binary)\n",
    "- 자동 인코딩/디코딩없이 파일 쓰기/읽기\n",
    "- encoding 옵션 지정 불가\n",
    "- 문자열이 아닌 파일을 읽어들일 때에는 인코딩/디코딩을 수행하면 안 되므로, 필히 binary모드를 지정"
   ]
  },
  {
   "cell_type": "code",
   "execution_count": null,
   "metadata": {},
   "outputs": [],
   "source": [
    "with open('myphoto.jpg', 'rb') as f:\n",
    "    photo_data = f.read()  # bytes타입"
   ]
  },
  {
   "cell_type": "markdown",
   "metadata": {},
   "source": [
    "#### 텍스트 파일을 binary모드로 열었을 경우\n",
    "- 인코딩 옵션이 없으므로, 수동으로 인코딩을 지정해 주어야 함"
   ]
  },
  {
   "cell_type": "code",
   "execution_count": 5,
   "metadata": {
    "collapsed": true
   },
   "outputs": [],
   "source": [
    "with open('filepath.txt', 'wb') as f:\n",
    "    f.write('가나다'.encode('utf8'))  # 인코딩 수동 지정"
   ]
  },
  {
   "cell_type": "code",
   "execution_count": null,
   "metadata": {
    "collapsed": true
   },
   "outputs": [],
   "source": []
  }
 ],
 "metadata": {
  "kernelspec": {
   "display_name": "Python 3",
   "language": "python",
   "name": "python3"
  },
  "language_info": {
   "codemirror_mode": {
    "name": "ipython",
    "version": 3
   },
   "file_extension": ".py",
   "mimetype": "text/x-python",
   "name": "python",
   "nbconvert_exporter": "python",
   "pygments_lexer": "ipython3",
   "version": "3.6.1"
  }
 },
 "nbformat": 4,
 "nbformat_minor": 2
}
