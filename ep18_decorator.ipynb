{
 "cells": [
  {
   "cell_type": "markdown",
   "metadata": {},
   "source": [
    "# 장식자(Decorator)\n",
    "- 어떤 함수를 감싸는(Wrapping) 목적의 함수\n",
    "- [documents](https://wiki.python.org/moin/PythonDecorators)\n",
    "\n",
    "\n",
    "\"데이터 분석할 때에도 장식자 문법을 정확히 아시면, 같은 코드인데 성능을 수십 배 ~ 수천 배 향상시킬 수 있습니다.  \n",
    "원래 코드를 안 고치고 살짝 Wrapping만 함으로써 성능 향상을 꾀할 수 있습니다.\""
   ]
  },
  {
   "cell_type": "markdown",
   "metadata": {},
   "source": [
    "## 1급 함수\n",
    "- 함수를 동적으로 생성 가능, 반환값으로 전달 가능\n",
    "- 함수를 변수처럼 취급 가능"
   ]
  },
  {
   "cell_type": "code",
   "execution_count": 1,
   "metadata": {
    "collapsed": true
   },
   "outputs": [],
   "source": [
    "fn1 = lambda x, y: x + y"
   ]
  },
  {
   "cell_type": "code",
   "execution_count": 2,
   "metadata": {},
   "outputs": [
    {
     "data": {
      "text/plain": [
       "3"
      ]
     },
     "execution_count": 2,
     "metadata": {},
     "output_type": "execute_result"
    }
   ],
   "source": [
    "fn1(1, 2)"
   ]
  },
  {
   "cell_type": "code",
   "execution_count": 3,
   "metadata": {
    "collapsed": true
   },
   "outputs": [],
   "source": [
    "fn2 = lambda x, y: x + y + 10"
   ]
  },
  {
   "cell_type": "code",
   "execution_count": 4,
   "metadata": {},
   "outputs": [
    {
     "data": {
      "text/plain": [
       "13"
      ]
     },
     "execution_count": 4,
     "metadata": {},
     "output_type": "execute_result"
    }
   ],
   "source": [
    "fn2(1, 2)"
   ]
  },
  {
   "cell_type": "code",
   "execution_count": 5,
   "metadata": {
    "collapsed": true
   },
   "outputs": [],
   "source": [
    "base = 10\n",
    "fn3 = lambda x, y: x + y + base"
   ]
  },
  {
   "cell_type": "code",
   "execution_count": 6,
   "metadata": {},
   "outputs": [
    {
     "data": {
      "text/plain": [
       "13"
      ]
     },
     "execution_count": 6,
     "metadata": {},
     "output_type": "execute_result"
    }
   ],
   "source": [
    "fn3(1, 2)"
   ]
  },
  {
   "cell_type": "code",
   "execution_count": 7,
   "metadata": {},
   "outputs": [
    {
     "data": {
      "text/plain": [
       "3"
      ]
     },
     "execution_count": 7,
     "metadata": {},
     "output_type": "execute_result"
    }
   ],
   "source": [
    "def mysum1():\n",
    "    fn = lambda x, y: x + y\n",
    "    return fn  # 함수를 리턴하는 함수\n",
    "\n",
    "myfn = mysum1()\n",
    "myfn(1, 2)"
   ]
  },
  {
   "cell_type": "code",
   "execution_count": 8,
   "metadata": {},
   "outputs": [
    {
     "data": {
      "text/plain": [
       "3"
      ]
     },
     "execution_count": 8,
     "metadata": {},
     "output_type": "execute_result"
    }
   ],
   "source": [
    "mysum1()(1, 2)  # 리턴값 자체가 함수이므로 가능"
   ]
  },
  {
   "cell_type": "code",
   "execution_count": 9,
   "metadata": {},
   "outputs": [
    {
     "data": {
      "text/plain": [
       "3"
      ]
     },
     "execution_count": 9,
     "metadata": {},
     "output_type": "execute_result"
    }
   ],
   "source": [
    "(lambda x, y: x + y)(1, 2)  # lambda 자체가 함수이므로 가능"
   ]
  },
  {
   "cell_type": "markdown",
   "metadata": {},
   "source": [
    "## 예시"
   ]
  },
  {
   "cell_type": "code",
   "execution_count": 14,
   "metadata": {
    "collapsed": true
   },
   "outputs": [],
   "source": [
    "def base_10(fn):\n",
    "    def wrap(x, y):\n",
    "        return fn(x, y) + 10\n",
    "    return wrap\n",
    "\n",
    "def mysum(x, y):\n",
    "    return x + y\n",
    "\n",
    "mywrap = base_10(mysum)"
   ]
  },
  {
   "cell_type": "code",
   "execution_count": 15,
   "metadata": {},
   "outputs": [
    {
     "data": {
      "text/plain": [
       "13"
      ]
     },
     "execution_count": 15,
     "metadata": {},
     "output_type": "execute_result"
    }
   ],
   "source": [
    "mywrap(1, 2)"
   ]
  },
  {
   "cell_type": "code",
   "execution_count": 16,
   "metadata": {},
   "outputs": [
    {
     "data": {
      "text/plain": [
       "210"
      ]
     },
     "execution_count": 16,
     "metadata": {},
     "output_type": "execute_result"
    }
   ],
   "source": [
    "def mymultiply(x, y):\n",
    "    return x * y\n",
    "\n",
    "mywrap = base_10(mymultiply)\n",
    "mywrap(10, 20)"
   ]
  },
  {
   "cell_type": "markdown",
   "metadata": {},
   "source": [
    "### 장식자 문법 적용"
   ]
  },
  {
   "cell_type": "code",
   "execution_count": 17,
   "metadata": {
    "collapsed": true
   },
   "outputs": [],
   "source": [
    "def base_10(fn):\n",
    "    def wrap(x ,y):\n",
    "        return fn(x, y) + 10\n",
    "    return wrap\n",
    "\n",
    "# def mysum(x, y):\n",
    "#     return x + y\n",
    "\n",
    "# mysum = base_10(mysum)\n",
    "\n",
    "@base_10\n",
    "def mysum(x, y):\n",
    "    return x + y"
   ]
  },
  {
   "cell_type": "code",
   "execution_count": 20,
   "metadata": {},
   "outputs": [
    {
     "data": {
      "text/plain": [
       "13"
      ]
     },
     "execution_count": 20,
     "metadata": {},
     "output_type": "execute_result"
    }
   ],
   "source": [
    "mysum(1, 2)"
   ]
  },
  {
   "cell_type": "markdown",
   "metadata": {},
   "source": [
    "\n",
    "## [메모이제이션(Memoization)](https://namu.wiki/w/%EB%A9%94%EB%AA%A8%EC%9D%B4%EC%A0%9C%EC%9D%B4%EC%85%98)\n",
    "- 동일한 계산을 반복해야 할 경우, 한 번 계산한 결과를 메모리에 저장해 두었다가 꺼내 씀으로써 중복 계산을 방지할 수 있게 하는 기법\n",
    "- **데이터 분석** 및 **머신 러닝** 등에서도 성능을 높이기 위해 꼭 필요한 매우매우 중요한 기법!\n",
    "- [Python 구현 예제](http://code.activestate.com/recipes/52201/)"
   ]
  },
  {
   "cell_type": "markdown",
   "metadata": {},
   "source": [
    "## memoize"
   ]
  },
  {
   "cell_type": "code",
   "execution_count": 30,
   "metadata": {
    "collapsed": true
   },
   "outputs": [],
   "source": [
    "import time\n",
    "\n",
    "cached1 = {}\n",
    "cached2 = {}\n",
    "\n",
    "\n",
    "def mylongtimesum(x, y):\n",
    "    key = (x, y)\n",
    "    if key not in cached1:\n",
    "        time.sleep(1)  # 오랜 시간이 걸리는 코드라고 가정\n",
    "        cached1[key] = x + y + 10\n",
    "    return cached1[key]\n",
    "\n",
    "\n",
    "def mylongtimemultiply(x, y):\n",
    "    key = (x, y)\n",
    "    if key not in cached2:\n",
    "        time.sleep(1)  # 오랜 시간이 걸리는 코드라고 가정\n",
    "        cached2[key] = (x * y) + 10\n",
    "    return cached2[key]"
   ]
  },
  {
   "cell_type": "code",
   "execution_count": 31,
   "metadata": {},
   "outputs": [
    {
     "name": "stdout",
     "output_type": "stream",
     "text": [
      "13\n",
      "13\n",
      "14\n",
      "14\n",
      "13\n",
      "14\n",
      "14\n",
      "14\n"
     ]
    }
   ],
   "source": [
    "print(mylongtimesum(1, 2))  # 1초\n",
    "print(mylongtimesum(1, 2))\n",
    "print(mylongtimesum(2, 2))  # 1초\n",
    "print(mylongtimesum(2, 2))\n",
    "print(mylongtimesum(1, 2))\n",
    "\n",
    "print(mylongtimemultiply(2, 2))  # 1초\n",
    "print(mylongtimemultiply(2, 2))\n",
    "print(mylongtimemultiply(2, 2))"
   ]
  },
  {
   "cell_type": "markdown",
   "metadata": {},
   "source": [
    "위 코드에서 두 함수는,\n",
    "- 동일한 인자에 대한 리턴값이 변하지 않음.(일정)\n",
    "\n",
    "\n",
    "- 한 번 실행된 함수의 결과를 cached 사전에 저장\n",
    "  - 인자 => key, 리턴값 => value\n",
    "\n",
    "\n",
    "- 같은 인자에 대한 함수 재호출 시, 다시 계산할 필요없이 바로 저장된 값을 리턴\n",
    "\n",
    "\n",
    "- 한 번 실행됐던 호출에 대해서는 계산을 생략하므로, **소요시간 대폭 감소**"
   ]
  },
  {
   "cell_type": "markdown",
   "metadata": {},
   "source": [
    "### 장식자 출격\n",
    "- 코드 개선 (중복 제거 및 가독성 up↑)\n",
    "- 원래 함수에는 주요 로직만 남겨두고, 새로 memoize 함수 구현  \n",
    "\n",
    "\n",
    "- _\"장식자는,_  \n",
    "_**특정 함수를 wrapping하는 새로운 함수를 만들어서 그 함수를 리턴해주는 것**_\""
   ]
  },
  {
   "cell_type": "code",
   "execution_count": 32,
   "metadata": {
    "collapsed": true
   },
   "outputs": [],
   "source": [
    "import time\n",
    "\n",
    "\n",
    "def memoize(fn):\n",
    "    cached = {}\n",
    "    def wrap(x, y):\n",
    "        key = (x, y)\n",
    "        if key not in cached:\n",
    "            cached[key] = fn(x, y)\n",
    "        return cached[key]\n",
    "    return wrap\n",
    "\n",
    "\n",
    "@memoize\n",
    "def mylongtimesum(x, y):\n",
    "    time.sleep(1)\n",
    "    return x + y + 10\n",
    "\n",
    "\n",
    "@memoize\n",
    "def mylongtimemultiply(x, y):\n",
    "    time.sleep(1)\n",
    "    return (x * y) + 10"
   ]
  },
  {
   "cell_type": "code",
   "execution_count": 33,
   "metadata": {},
   "outputs": [
    {
     "name": "stdout",
     "output_type": "stream",
     "text": [
      "13\n",
      "13\n",
      "14\n",
      "14\n",
      "13\n",
      "14\n",
      "14\n",
      "14\n"
     ]
    }
   ],
   "source": [
    "print(mylongtimesum(1, 2))  # 1초\n",
    "print(mylongtimesum(1, 2))\n",
    "print(mylongtimesum(2, 2))  # 1초\n",
    "print(mylongtimesum(2, 2))\n",
    "print(mylongtimesum(1, 2))\n",
    "\n",
    "print(mylongtimemultiply(2, 2))  # 1초\n",
    "print(mylongtimemultiply(2, 2))\n",
    "print(mylongtimemultiply(2, 2))"
   ]
  },
  {
   "cell_type": "markdown",
   "metadata": {},
   "source": [
    "## 인자를 받는 장식자"
   ]
  },
  {
   "cell_type": "code",
   "execution_count": 39,
   "metadata": {
    "collapsed": true
   },
   "outputs": [],
   "source": [
    "def base_10(fn):\n",
    "    def wrap(x, y):\n",
    "        return fn(x, y) + 10\n",
    "    return wrap"
   ]
  },
  {
   "cell_type": "code",
   "execution_count": 40,
   "metadata": {},
   "outputs": [
    {
     "data": {
      "text/plain": [
       "13"
      ]
     },
     "execution_count": 40,
     "metadata": {},
     "output_type": "execute_result"
    }
   ],
   "source": [
    "@base_10\n",
    "def mysum(x, y):\n",
    "    return x + y\n",
    "\n",
    "# mysum = base_10(mysum)\n",
    "mysum(1, 2)"
   ]
  },
  {
   "cell_type": "markdown",
   "metadata": {},
   "source": [
    "- 그럼 base_20, base_30 등은 또 정의해야 되나?"
   ]
  },
  {
   "cell_type": "code",
   "execution_count": 43,
   "metadata": {
    "collapsed": true
   },
   "outputs": [],
   "source": [
    "def base(base_i):\n",
    "    def outer(fn):\n",
    "        def wrap(x, y):\n",
    "            return fn(x, y) + base_i\n",
    "        return wrap\n",
    "    return outer"
   ]
  },
  {
   "cell_type": "code",
   "execution_count": 46,
   "metadata": {},
   "outputs": [
    {
     "name": "stdout",
     "output_type": "stream",
     "text": [
      "13\n",
      "14\n"
     ]
    }
   ],
   "source": [
    "base_10 = base(10)\n",
    "\n",
    "@base_10\n",
    "def mysum(x, y):\n",
    "    return x + y\n",
    "\n",
    "print(mysum(1, 2))\n",
    "print(mysum(1, 3))"
   ]
  },
  {
   "cell_type": "markdown",
   "metadata": {},
   "source": [
    "- 장식자도 함수니까 바로 써주면 더 깔끔하죠잉~"
   ]
  },
  {
   "cell_type": "code",
   "execution_count": 47,
   "metadata": {},
   "outputs": [
    {
     "name": "stdout",
     "output_type": "stream",
     "text": [
      "13\n",
      "14\n"
     ]
    }
   ],
   "source": [
    "@base(10)\n",
    "def mysum(x, y):\n",
    "    return x + y\n",
    "\n",
    "print(mysum(1, 2))\n",
    "print(mysum(1, 3))"
   ]
  },
  {
   "cell_type": "code",
   "execution_count": 48,
   "metadata": {},
   "outputs": [
    {
     "name": "stdout",
     "output_type": "stream",
     "text": [
      "23\n",
      "24\n"
     ]
    }
   ],
   "source": [
    "@base(20)\n",
    "def mysum(x, y):\n",
    "    return x + y\n",
    "\n",
    "print(mysum(1, 2))\n",
    "print(mysum(1, 3))"
   ]
  },
  {
   "cell_type": "code",
   "execution_count": 49,
   "metadata": {},
   "outputs": [
    {
     "name": "stdout",
     "output_type": "stream",
     "text": [
      "33\n",
      "34\n"
     ]
    }
   ],
   "source": [
    "@base(30)\n",
    "def mysum(x, y):\n",
    "    return x + y\n",
    "\n",
    "print(mysum(1, 2))\n",
    "print(mysum(1, 3))"
   ]
  },
  {
   "cell_type": "markdown",
   "metadata": {},
   "source": [
    "## Quiz) 지정된 조건의 인자만 처리하기\n",
    "- filter_fn을 통과하지 못하는 인자는 alter_value 값으로 대체하기"
   ]
  },
  {
   "cell_type": "raw",
   "metadata": {},
   "source": [
    "def myfilter(filter_fn, alter_value):\n",
    "    def wrap(fn):\n",
    "        def inner(*args):\n",
    "            raise NotImplementedError('구현해주세요.') # TODO\n",
    "        return inner\n",
    "    return wrap\n",
    "\n",
    "\n",
    "@myfilter(lambda i: i%2==0, 0)\n",
    "def mysum(a, b, c, d, e):\n",
    "    return a + b + c + d + e\n",
    "\n",
    "\n",
    "@myfilter(lambda i: i%2==0, 1)\n",
    "def mymultiply(a, b, c, d, e):\n",
    "    return a * b * c * d * e\n",
    "\n",
    "\n",
    "mysum(1, 2, 3, 4, 5)  # 6\n",
    "mymultiply(1, 2, 3, 4, 5)  # 8"
   ]
  },
  {
   "cell_type": "code",
   "execution_count": 76,
   "metadata": {},
   "outputs": [
    {
     "name": "stdout",
     "output_type": "stream",
     "text": [
      "6\n",
      "8\n"
     ]
    }
   ],
   "source": [
    "# def myfilter(filter_fn, alter_value):\n",
    "#     def wrap(fn):\n",
    "#         def inner(*args):\n",
    "#             numbers = []\n",
    "#             for i in args:\n",
    "#                 if filter_fn(i) == False:\n",
    "#                     i = alter_value\n",
    "#                 numbers.append(i)\n",
    "#             return fn(*numbers)\n",
    "#         return inner\n",
    "#     return wrap\n",
    "\n",
    "\n",
    "# def myfilter(filter_fn, alter_value):\n",
    "#     def wrap(fn):\n",
    "#         def inner(*args):\n",
    "#             numbers = [i if filter_fn(i) else alter_value for i in args]\n",
    "#             return fn(*numbers)\n",
    "#         return inner\n",
    "#     return wrap\n",
    "\n",
    "\n",
    "def myfilter(filter_fn, alter_value):\n",
    "    def wrap(fn):\n",
    "        def inner(*args):\n",
    "            return fn(*[i if filter_fn(i) else alter_value for i in args])\n",
    "        return inner\n",
    "    return wrap\n",
    "\n",
    "\n",
    "@myfilter(lambda i: i%2==0, 0)\n",
    "def mysum(a, b, c, d, e):\n",
    "    return a + b + c + d + e\n",
    "\n",
    "\n",
    "@myfilter(lambda i: i%2==0, 1)\n",
    "def mymultiply(a, b, c, d, e):\n",
    "    return a * b * c * d * e\n",
    "\n",
    "\n",
    "print(mysum(1, 2, 3, 4, 5))  # 6\n",
    "print(mymultiply(1, 2, 3, 4, 5))  # 8"
   ]
  },
  {
   "cell_type": "markdown",
   "metadata": {},
   "source": [
    "## 메모) Quiz 풀다가 알게 된 list comprehension 팁\n",
    "- else 를 쓸 때는 순서를 바꿔줘야 함"
   ]
  },
  {
   "cell_type": "markdown",
   "metadata": {},
   "source": [
    "### if 만 쓰는 경우"
   ]
  },
  {
   "cell_type": "code",
   "execution_count": 77,
   "metadata": {},
   "outputs": [
    {
     "data": {
      "text/plain": [
       "[2, 4]"
      ]
     },
     "execution_count": 77,
     "metadata": {},
     "output_type": "execute_result"
    }
   ],
   "source": [
    "[i for i in range(1, 6) if i%2 == 0]"
   ]
  },
  {
   "cell_type": "code",
   "execution_count": 78,
   "metadata": {},
   "outputs": [
    {
     "ename": "SyntaxError",
     "evalue": "invalid syntax (<ipython-input-78-17880aa2495f>, line 1)",
     "output_type": "error",
     "traceback": [
      "\u001b[0;36m  File \u001b[0;32m\"<ipython-input-78-17880aa2495f>\"\u001b[0;36m, line \u001b[0;32m1\u001b[0m\n\u001b[0;31m    [i if i%2 == 0 for i in range(1, 6)]\u001b[0m\n\u001b[0m                     ^\u001b[0m\n\u001b[0;31mSyntaxError\u001b[0m\u001b[0;31m:\u001b[0m invalid syntax\n"
     ]
    }
   ],
   "source": [
    "[i if i%2 == 0 for i in range(1, 6)]"
   ]
  },
  {
   "cell_type": "markdown",
   "metadata": {},
   "source": [
    "### if ~ else ~ 를 쓰는 경우\n",
    "- if-else문이 for문 앞에 위치"
   ]
  },
  {
   "cell_type": "code",
   "execution_count": 79,
   "metadata": {},
   "outputs": [
    {
     "ename": "SyntaxError",
     "evalue": "invalid syntax (<ipython-input-79-93852ccbf283>, line 1)",
     "output_type": "error",
     "traceback": [
      "\u001b[0;36m  File \u001b[0;32m\"<ipython-input-79-93852ccbf283>\"\u001b[0;36m, line \u001b[0;32m1\u001b[0m\n\u001b[0;31m    [i for i in range(1, 6) if i%2 == 0 else 0]\u001b[0m\n\u001b[0m                                           ^\u001b[0m\n\u001b[0;31mSyntaxError\u001b[0m\u001b[0;31m:\u001b[0m invalid syntax\n"
     ]
    }
   ],
   "source": [
    "[i for i in range(1, 6) if i%2 == 0 else 0]"
   ]
  },
  {
   "cell_type": "code",
   "execution_count": 80,
   "metadata": {},
   "outputs": [
    {
     "data": {
      "text/plain": [
       "[0, 2, 0, 4, 0]"
      ]
     },
     "execution_count": 80,
     "metadata": {},
     "output_type": "execute_result"
    }
   ],
   "source": [
    "[i if i%2 == 0 else 0 for i in range(1, 6)]"
   ]
  },
  {
   "cell_type": "markdown",
   "metadata": {},
   "source": [
    "- 이유는 잘 모르겠음.\n",
    "- [List Comprehension 추가 팁](https://code.tutsplus.com/ko/tutorials/list-comprehensions-in-python--cms-26836)"
   ]
  },
  {
   "cell_type": "code",
   "execution_count": null,
   "metadata": {
    "collapsed": true
   },
   "outputs": [],
   "source": []
  }
 ],
 "metadata": {
  "kernelspec": {
   "display_name": "Python 3",
   "language": "python",
   "name": "python3"
  },
  "language_info": {
   "codemirror_mode": {
    "name": "ipython",
    "version": 3
   },
   "file_extension": ".py",
   "mimetype": "text/x-python",
   "name": "python",
   "nbconvert_exporter": "python",
   "pygments_lexer": "ipython3",
   "version": "3.6.1"
  }
 },
 "nbformat": 4,
 "nbformat_minor": 2
}
